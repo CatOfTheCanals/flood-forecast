{
 "cells": [
  {
   "cell_type": "code",
   "execution_count": 1,
   "metadata": {
    "collapsed": true
   },
   "outputs": [],
   "source": [
    "import numpy as np\n",
    "import pandas as pd"
   ]
  },
  {
   "cell_type": "code",
   "execution_count": 2,
   "metadata": {},
   "outputs": [
    {
     "data": {
      "text/plain": [
       "<pandas.io.excel.ExcelFile at 0x7b71390>"
      ]
     },
     "execution_count": 2,
     "metadata": {},
     "output_type": "execute_result"
    }
   ],
   "source": [
    "# Import the excel file and call it xls_file\n",
    "xls_file = pd.ExcelFile('daily_met.xls')\n",
    "xls_file"
   ]
  },
  {
   "cell_type": "code",
   "execution_count": 3,
   "metadata": {},
   "outputs": [
    {
     "data": {
      "text/html": [
       "<div>\n",
       "<table border=\"1\" class=\"dataframe\">\n",
       "  <thead>\n",
       "    <tr style=\"text-align: right;\">\n",
       "      <th></th>\n",
       "      <th>date_rain</th>\n",
       "      <th>rain</th>\n",
       "    </tr>\n",
       "  </thead>\n",
       "  <tbody>\n",
       "    <tr>\n",
       "      <th>0</th>\n",
       "      <td>2014-11-01</td>\n",
       "      <td>16.8</td>\n",
       "    </tr>\n",
       "    <tr>\n",
       "      <th>1</th>\n",
       "      <td>2014-11-02</td>\n",
       "      <td>0.7</td>\n",
       "    </tr>\n",
       "    <tr>\n",
       "      <th>2</th>\n",
       "      <td>2014-11-03</td>\n",
       "      <td>0.4</td>\n",
       "    </tr>\n",
       "    <tr>\n",
       "      <th>3</th>\n",
       "      <td>2014-11-04</td>\n",
       "      <td>1.7</td>\n",
       "    </tr>\n",
       "    <tr>\n",
       "      <th>4</th>\n",
       "      <td>2014-11-05</td>\n",
       "      <td>1.2</td>\n",
       "    </tr>\n",
       "  </tbody>\n",
       "</table>\n",
       "</div>"
      ],
      "text/plain": [
       "   date_rain  rain\n",
       "0 2014-11-01  16.8\n",
       "1 2014-11-02   0.7\n",
       "2 2014-11-03   0.4\n",
       "3 2014-11-04   1.7\n",
       "4 2014-11-05   1.2"
      ]
     },
     "execution_count": 3,
     "metadata": {},
     "output_type": "execute_result"
    }
   ],
   "source": [
    "# View the excel file's sheet names\n",
    "xls_file.sheet_names\n",
    "df = xls_file.parse('rain')\n",
    "df.head()"
   ]
  },
  {
   "cell_type": "code",
   "execution_count": 4,
   "metadata": {},
   "outputs": [
    {
     "name": "stdout",
     "output_type": "stream",
     "text": [
      "   date_rain  rain  t_rain-20  t_rain-19  t_rain-18  t_rain-17  t_rain-16  \\\n",
      "0 2014-11-01  16.8        NaN        NaN        NaN        NaN        NaN   \n",
      "1 2014-11-02   0.7        NaN        NaN        NaN        NaN        NaN   \n",
      "2 2014-11-03   0.4        NaN        NaN        NaN        NaN        NaN   \n",
      "3 2014-11-04   1.7        NaN        NaN        NaN        NaN        NaN   \n",
      "4 2014-11-05   1.2        NaN        NaN        NaN        NaN        NaN   \n",
      "\n",
      "   t_rain-15  t_rain-14  t_rain-13  t_rain-12  t_rain-11  t_rain-10  t_rain-9  \\\n",
      "0        NaN        NaN        NaN        NaN        NaN        NaN       NaN   \n",
      "1        NaN        NaN        NaN        NaN        NaN        NaN       NaN   \n",
      "2        NaN        NaN        NaN        NaN        NaN        NaN       NaN   \n",
      "3        NaN        NaN        NaN        NaN        NaN        NaN       NaN   \n",
      "4        NaN        NaN        NaN        NaN        NaN        NaN       NaN   \n",
      "\n",
      "   t_rain-8  t_rain-7  \n",
      "0       NaN       NaN  \n",
      "1       NaN       NaN  \n",
      "2       NaN       NaN  \n",
      "3       NaN       NaN  \n",
      "4       NaN       NaN  \n"
     ]
    }
   ],
   "source": [
    "df['date_rain'] = pd.to_datetime(df['date_rain'],format='%Y-%m-%d')\n",
    "\n",
    "for daysDelta in range(-20,-6): #CHANGE HERE (assumes 3 days forecasted data)\n",
    "    key = 't_rain'+str(daysDelta)\n",
    "    df[key] = np.nan\n",
    "print(df.head())"
   ]
  },
  {
   "cell_type": "code",
   "execution_count": 5,
   "metadata": {},
   "outputs": [
    {
     "name": "stdout",
     "output_type": "stream",
     "text": [
      "Wall time: 0 ns\n"
     ]
    }
   ],
   "source": [
    "%time\n",
    "for index, row in df.iterrows():\n",
    "    for daysDelta in range(-20,-6): #loops through days\n",
    "        key = 't_rain'+str(daysDelta)\n",
    "\n",
    "        # will be true if the difference of days is the one you are looking for\n",
    "        booleanTimeDelta = ((df.loc[:,'date_rain'] -row['date_rain']).dt.days == daysDelta) \n",
    "\n",
    "        # if any are true find them and assign it  \n",
    "        if any(booleanTimeDelta):\n",
    "            df.loc[index:index+1,key] = df.loc[booleanTimeDelta,'rain'].values"
   ]
  },
  {
   "cell_type": "code",
   "execution_count": 6,
   "metadata": {
    "scrolled": true
   },
   "outputs": [
    {
     "name": "stdout",
     "output_type": "stream",
     "text": [
      "    date_rain  rain t_rain-20 t_rain-19 t_rain-18 t_rain-17 t_rain-16  \\\n",
      "0  2014-11-01  16.8       NaN       NaN       NaN       NaN       NaN   \n",
      "1  2014-11-02   0.7       NaN       NaN       NaN       NaN       NaN   \n",
      "2  2014-11-03   0.4       NaN       NaN       NaN       NaN       NaN   \n",
      "3  2014-11-04   1.7       NaN       NaN       NaN       NaN       NaN   \n",
      "4  2014-11-05   1.2       NaN       NaN       NaN       NaN       NaN   \n",
      "5  2014-11-06  18.6       NaN       NaN       NaN       NaN       NaN   \n",
      "6  2014-11-07   1.4       NaN       NaN       NaN       NaN       NaN   \n",
      "7  2014-11-08   8.5       NaN       NaN       NaN       NaN       NaN   \n",
      "8  2014-11-09   0.3       NaN       NaN       NaN       NaN       NaN   \n",
      "9  2014-11-10   3.4       NaN       NaN       NaN       NaN       NaN   \n",
      "10 2014-11-20   0.1       NaN      16.8       0.7       0.4       1.7   \n",
      "11 2014-11-21   7.7      16.8       0.7       0.4       1.7       1.2   \n",
      "12 2014-11-22     1       0.7       0.4       1.7       1.2      18.6   \n",
      "13 2014-11-23   0.1       0.4       1.7       1.2      18.6       1.4   \n",
      "14 2014-11-24   0.9       1.7       1.2      18.6       1.4       8.5   \n",
      "15 2014-11-25   0.8       1.2      18.6       1.4       8.5       0.3   \n",
      "16 2014-11-26   0.1      18.6       1.4       8.5       0.3       3.4   \n",
      "17 2014-11-27   0.1       1.4       8.5       0.3       3.4       3.4   \n",
      "18 2014-11-28   0.1       8.5       0.3       3.4       3.4       NaN   \n",
      "19 2014-11-29     0       0.3       3.4       3.4       NaN       NaN   \n",
      "\n",
      "   t_rain-15 t_rain-14 t_rain-13 t_rain-12 t_rain-11 t_rain-10 t_rain-9  \\\n",
      "0        NaN       NaN       NaN       NaN       NaN       NaN      NaN   \n",
      "1        NaN       NaN       NaN       NaN       NaN       NaN      NaN   \n",
      "2        NaN       NaN       NaN       NaN       NaN       NaN      NaN   \n",
      "3        NaN       NaN       NaN       NaN       NaN       NaN      NaN   \n",
      "4        NaN       NaN       NaN       NaN       NaN       NaN      NaN   \n",
      "5        NaN       NaN       NaN       NaN       NaN       NaN      NaN   \n",
      "6        NaN       NaN       NaN       NaN       NaN       NaN      NaN   \n",
      "7        NaN       NaN       NaN       NaN       NaN       NaN      NaN   \n",
      "8        NaN       NaN       NaN       NaN       NaN       NaN      NaN   \n",
      "9        NaN       NaN       NaN       NaN       NaN       NaN     16.8   \n",
      "10       1.2      18.6       1.4       8.5       0.3       3.4     16.8   \n",
      "11      18.6       1.4       8.5       0.3       3.4       3.4      NaN   \n",
      "12       1.4       8.5       0.3       3.4       3.4       NaN      NaN   \n",
      "13       8.5       0.3       3.4       3.4       NaN       NaN      NaN   \n",
      "14       0.3       3.4       3.4       NaN       NaN       NaN      NaN   \n",
      "15       3.4       3.4       NaN       NaN       NaN       NaN      NaN   \n",
      "16       3.4       NaN       NaN       NaN       NaN       NaN      NaN   \n",
      "17       NaN       NaN       NaN       NaN       NaN       NaN      NaN   \n",
      "18       NaN       NaN       NaN       NaN       NaN       NaN      NaN   \n",
      "19       NaN       NaN       NaN       NaN       NaN       NaN      0.1   \n",
      "\n",
      "   t_rain-8 t_rain-7  \n",
      "0       NaN      NaN  \n",
      "1       NaN      NaN  \n",
      "2       NaN      NaN  \n",
      "3       NaN      NaN  \n",
      "4       NaN      NaN  \n",
      "5       NaN      NaN  \n",
      "6       NaN      NaN  \n",
      "7       NaN     16.8  \n",
      "8      16.8      0.7  \n",
      "9       0.7      0.4  \n",
      "10      0.7      0.4  \n",
      "11      NaN      NaN  \n",
      "12      NaN      NaN  \n",
      "13      NaN      NaN  \n",
      "14      NaN      NaN  \n",
      "15      NaN      NaN  \n",
      "16      NaN      NaN  \n",
      "17      NaN      0.1  \n",
      "18      0.1      7.7  \n",
      "19      7.7        1  \n"
     ]
    }
   ],
   "source": [
    "print(df.head(n=20))"
   ]
  },
  {
   "cell_type": "code",
   "execution_count": 7,
   "metadata": {},
   "outputs": [
    {
     "data": {
      "text/plain": [
       "[u'Dates_aquisition']"
      ]
     },
     "execution_count": 7,
     "metadata": {},
     "output_type": "execute_result"
    }
   ],
   "source": [
    "# Import the excel file and call it xls_file\n",
    "xls_file_2 = pd.ExcelFile('dates_aquisition.xls')\n",
    "xls_file_2\n",
    "xls_file_2.sheet_names"
   ]
  },
  {
   "cell_type": "code",
   "execution_count": 8,
   "metadata": {},
   "outputs": [
    {
     "data": {
      "text/html": [
       "<div>\n",
       "<table border=\"1\" class=\"dataframe\">\n",
       "  <thead>\n",
       "    <tr style=\"text-align: right;\">\n",
       "      <th></th>\n",
       "      <th>date_aqui</th>\n",
       "    </tr>\n",
       "  </thead>\n",
       "  <tbody>\n",
       "    <tr>\n",
       "      <th>0</th>\n",
       "      <td>2014-11-22</td>\n",
       "    </tr>\n",
       "    <tr>\n",
       "      <th>1</th>\n",
       "      <td>2014-12-28</td>\n",
       "    </tr>\n",
       "    <tr>\n",
       "      <th>2</th>\n",
       "      <td>2015-01-02</td>\n",
       "    </tr>\n",
       "    <tr>\n",
       "      <th>3</th>\n",
       "      <td>2015-02-04</td>\n",
       "    </tr>\n",
       "    <tr>\n",
       "      <th>4</th>\n",
       "      <td>2015-02-16</td>\n",
       "    </tr>\n",
       "  </tbody>\n",
       "</table>\n",
       "</div>"
      ],
      "text/plain": [
       "   date_aqui\n",
       "0 2014-11-22\n",
       "1 2014-12-28\n",
       "2 2015-01-02\n",
       "3 2015-02-04\n",
       "4 2015-02-16"
      ]
     },
     "execution_count": 8,
     "metadata": {},
     "output_type": "execute_result"
    }
   ],
   "source": [
    "df_dates = xls_file_2.parse('Dates_aquisition')\n",
    "df_dates.head()"
   ]
  },
  {
   "cell_type": "code",
   "execution_count": 9,
   "metadata": {},
   "outputs": [
    {
     "data": {
      "text/html": [
       "<div>\n",
       "<table border=\"1\" class=\"dataframe\">\n",
       "  <thead>\n",
       "    <tr style=\"text-align: right;\">\n",
       "      <th></th>\n",
       "      <th>date_rain</th>\n",
       "      <th>rain</th>\n",
       "      <th>t_rain-20</th>\n",
       "      <th>t_rain-19</th>\n",
       "      <th>t_rain-18</th>\n",
       "      <th>t_rain-17</th>\n",
       "      <th>t_rain-16</th>\n",
       "      <th>t_rain-15</th>\n",
       "      <th>t_rain-14</th>\n",
       "      <th>t_rain-13</th>\n",
       "      <th>t_rain-12</th>\n",
       "      <th>t_rain-11</th>\n",
       "      <th>t_rain-10</th>\n",
       "      <th>t_rain-9</th>\n",
       "      <th>t_rain-8</th>\n",
       "      <th>t_rain-7</th>\n",
       "      <th>date_aqui</th>\n",
       "    </tr>\n",
       "  </thead>\n",
       "  <tbody>\n",
       "    <tr>\n",
       "      <th>0</th>\n",
       "      <td>2014-11-22</td>\n",
       "      <td>1</td>\n",
       "      <td>0.7</td>\n",
       "      <td>0.4</td>\n",
       "      <td>1.7</td>\n",
       "      <td>1.2</td>\n",
       "      <td>18.6</td>\n",
       "      <td>1.4</td>\n",
       "      <td>8.5</td>\n",
       "      <td>0.3</td>\n",
       "      <td>3.4</td>\n",
       "      <td>3.4</td>\n",
       "      <td>NaN</td>\n",
       "      <td>NaN</td>\n",
       "      <td>NaN</td>\n",
       "      <td>NaN</td>\n",
       "      <td>2014-11-22</td>\n",
       "    </tr>\n",
       "    <tr>\n",
       "      <th>1</th>\n",
       "      <td>2014-12-28</td>\n",
       "      <td>0</td>\n",
       "      <td>0</td>\n",
       "      <td>3.8</td>\n",
       "      <td>9</td>\n",
       "      <td>26.4</td>\n",
       "      <td>1.4</td>\n",
       "      <td>0</td>\n",
       "      <td>1.8</td>\n",
       "      <td>2.2</td>\n",
       "      <td>6.6</td>\n",
       "      <td>2.4</td>\n",
       "      <td>7.5</td>\n",
       "      <td>0.5</td>\n",
       "      <td>1.1</td>\n",
       "      <td>0.3</td>\n",
       "      <td>2014-12-28</td>\n",
       "    </tr>\n",
       "    <tr>\n",
       "      <th>2</th>\n",
       "      <td>2015-01-02</td>\n",
       "      <td>0.3</td>\n",
       "      <td>0</td>\n",
       "      <td>1.8</td>\n",
       "      <td>2.2</td>\n",
       "      <td>6.6</td>\n",
       "      <td>2.4</td>\n",
       "      <td>7.5</td>\n",
       "      <td>0.5</td>\n",
       "      <td>1.1</td>\n",
       "      <td>0.3</td>\n",
       "      <td>3.3</td>\n",
       "      <td>4.1</td>\n",
       "      <td>0.3</td>\n",
       "      <td>0</td>\n",
       "      <td>10.1</td>\n",
       "      <td>2015-01-02</td>\n",
       "    </tr>\n",
       "    <tr>\n",
       "      <th>3</th>\n",
       "      <td>2015-02-04</td>\n",
       "      <td>0</td>\n",
       "      <td>5.8</td>\n",
       "      <td>2.6</td>\n",
       "      <td>1.4</td>\n",
       "      <td>0</td>\n",
       "      <td>1.9</td>\n",
       "      <td>6.6</td>\n",
       "      <td>0.1</td>\n",
       "      <td>0</td>\n",
       "      <td>2.4</td>\n",
       "      <td>0</td>\n",
       "      <td>2.7</td>\n",
       "      <td>0.4</td>\n",
       "      <td>0.4</td>\n",
       "      <td>3.8</td>\n",
       "      <td>2015-02-04</td>\n",
       "    </tr>\n",
       "    <tr>\n",
       "      <th>4</th>\n",
       "      <td>2015-02-16</td>\n",
       "      <td>0.2</td>\n",
       "      <td>0.4</td>\n",
       "      <td>3.8</td>\n",
       "      <td>8.8</td>\n",
       "      <td>1.7</td>\n",
       "      <td>0.5</td>\n",
       "      <td>0</td>\n",
       "      <td>0</td>\n",
       "      <td>1.3</td>\n",
       "      <td>0</td>\n",
       "      <td>0</td>\n",
       "      <td>0.1</td>\n",
       "      <td>0</td>\n",
       "      <td>0</td>\n",
       "      <td>0</td>\n",
       "      <td>2015-02-16</td>\n",
       "    </tr>\n",
       "  </tbody>\n",
       "</table>\n",
       "</div>"
      ],
      "text/plain": [
       "   date_rain rain t_rain-20 t_rain-19 t_rain-18 t_rain-17 t_rain-16 t_rain-15  \\\n",
       "0 2014-11-22    1       0.7       0.4       1.7       1.2      18.6       1.4   \n",
       "1 2014-12-28    0         0       3.8         9      26.4       1.4         0   \n",
       "2 2015-01-02  0.3         0       1.8       2.2       6.6       2.4       7.5   \n",
       "3 2015-02-04    0       5.8       2.6       1.4         0       1.9       6.6   \n",
       "4 2015-02-16  0.2       0.4       3.8       8.8       1.7       0.5         0   \n",
       "\n",
       "  t_rain-14 t_rain-13 t_rain-12 t_rain-11 t_rain-10 t_rain-9 t_rain-8  \\\n",
       "0       8.5       0.3       3.4       3.4       NaN      NaN      NaN   \n",
       "1       1.8       2.2       6.6       2.4       7.5      0.5      1.1   \n",
       "2       0.5       1.1       0.3       3.3       4.1      0.3        0   \n",
       "3       0.1         0       2.4         0       2.7      0.4      0.4   \n",
       "4         0       1.3         0         0       0.1        0        0   \n",
       "\n",
       "  t_rain-7  date_aqui  \n",
       "0      NaN 2014-11-22  \n",
       "1      0.3 2014-12-28  \n",
       "2     10.1 2015-01-02  \n",
       "3      3.8 2015-02-04  \n",
       "4        0 2015-02-16  "
      ]
     },
     "execution_count": 9,
     "metadata": {},
     "output_type": "execute_result"
    }
   ],
   "source": [
    "merge_df = pd.merge(df, df_dates, left_on = ['date_rain'], right_on = ['date_aqui'])\n",
    "merge_df.head()"
   ]
  },
  {
   "cell_type": "code",
   "execution_count": 10,
   "metadata": {},
   "outputs": [
    {
     "data": {
      "text/html": [
       "<div>\n",
       "<table border=\"1\" class=\"dataframe\">\n",
       "  <thead>\n",
       "    <tr style=\"text-align: right;\">\n",
       "      <th></th>\n",
       "      <th>date_rain</th>\n",
       "      <th>rain</th>\n",
       "      <th>t_rain-20</th>\n",
       "      <th>t_rain-19</th>\n",
       "      <th>t_rain-18</th>\n",
       "      <th>t_rain-17</th>\n",
       "      <th>t_rain-16</th>\n",
       "      <th>t_rain-15</th>\n",
       "      <th>t_rain-14</th>\n",
       "      <th>t_rain-13</th>\n",
       "      <th>t_rain-12</th>\n",
       "      <th>t_rain-11</th>\n",
       "      <th>t_rain-10</th>\n",
       "      <th>t_rain-9</th>\n",
       "      <th>t_rain-8</th>\n",
       "      <th>t_rain-7</th>\n",
       "    </tr>\n",
       "  </thead>\n",
       "  <tbody>\n",
       "    <tr>\n",
       "      <th>1</th>\n",
       "      <td>2014-12-28</td>\n",
       "      <td>0</td>\n",
       "      <td>0</td>\n",
       "      <td>3.8</td>\n",
       "      <td>9</td>\n",
       "      <td>26.4</td>\n",
       "      <td>1.4</td>\n",
       "      <td>0</td>\n",
       "      <td>1.8</td>\n",
       "      <td>2.2</td>\n",
       "      <td>6.6</td>\n",
       "      <td>2.4</td>\n",
       "      <td>7.5</td>\n",
       "      <td>0.5</td>\n",
       "      <td>1.1</td>\n",
       "      <td>0.3</td>\n",
       "    </tr>\n",
       "    <tr>\n",
       "      <th>2</th>\n",
       "      <td>2015-01-02</td>\n",
       "      <td>0.3</td>\n",
       "      <td>0</td>\n",
       "      <td>1.8</td>\n",
       "      <td>2.2</td>\n",
       "      <td>6.6</td>\n",
       "      <td>2.4</td>\n",
       "      <td>7.5</td>\n",
       "      <td>0.5</td>\n",
       "      <td>1.1</td>\n",
       "      <td>0.3</td>\n",
       "      <td>3.3</td>\n",
       "      <td>4.1</td>\n",
       "      <td>0.3</td>\n",
       "      <td>0</td>\n",
       "      <td>10.1</td>\n",
       "    </tr>\n",
       "    <tr>\n",
       "      <th>3</th>\n",
       "      <td>2015-02-04</td>\n",
       "      <td>0</td>\n",
       "      <td>5.8</td>\n",
       "      <td>2.6</td>\n",
       "      <td>1.4</td>\n",
       "      <td>0</td>\n",
       "      <td>1.9</td>\n",
       "      <td>6.6</td>\n",
       "      <td>0.1</td>\n",
       "      <td>0</td>\n",
       "      <td>2.4</td>\n",
       "      <td>0</td>\n",
       "      <td>2.7</td>\n",
       "      <td>0.4</td>\n",
       "      <td>0.4</td>\n",
       "      <td>3.8</td>\n",
       "    </tr>\n",
       "    <tr>\n",
       "      <th>4</th>\n",
       "      <td>2015-02-16</td>\n",
       "      <td>0.2</td>\n",
       "      <td>0.4</td>\n",
       "      <td>3.8</td>\n",
       "      <td>8.8</td>\n",
       "      <td>1.7</td>\n",
       "      <td>0.5</td>\n",
       "      <td>0</td>\n",
       "      <td>0</td>\n",
       "      <td>1.3</td>\n",
       "      <td>0</td>\n",
       "      <td>0</td>\n",
       "      <td>0.1</td>\n",
       "      <td>0</td>\n",
       "      <td>0</td>\n",
       "      <td>0</td>\n",
       "    </tr>\n",
       "    <tr>\n",
       "      <th>5</th>\n",
       "      <td>2015-02-28</td>\n",
       "      <td>1.7</td>\n",
       "      <td>0</td>\n",
       "      <td>0</td>\n",
       "      <td>0</td>\n",
       "      <td>0</td>\n",
       "      <td>0</td>\n",
       "      <td>4.5</td>\n",
       "      <td>0</td>\n",
       "      <td>6.2</td>\n",
       "      <td>0.2</td>\n",
       "      <td>0</td>\n",
       "      <td>0.8</td>\n",
       "      <td>3.6</td>\n",
       "      <td>2.5</td>\n",
       "      <td>0.2</td>\n",
       "    </tr>\n",
       "  </tbody>\n",
       "</table>\n",
       "</div>"
      ],
      "text/plain": [
       "   date_rain rain t_rain-20 t_rain-19 t_rain-18 t_rain-17 t_rain-16 t_rain-15  \\\n",
       "1 2014-12-28    0         0       3.8         9      26.4       1.4         0   \n",
       "2 2015-01-02  0.3         0       1.8       2.2       6.6       2.4       7.5   \n",
       "3 2015-02-04    0       5.8       2.6       1.4         0       1.9       6.6   \n",
       "4 2015-02-16  0.2       0.4       3.8       8.8       1.7       0.5         0   \n",
       "5 2015-02-28  1.7         0         0         0         0         0       4.5   \n",
       "\n",
       "  t_rain-14 t_rain-13 t_rain-12 t_rain-11 t_rain-10 t_rain-9 t_rain-8 t_rain-7  \n",
       "1       1.8       2.2       6.6       2.4       7.5      0.5      1.1      0.3  \n",
       "2       0.5       1.1       0.3       3.3       4.1      0.3        0     10.1  \n",
       "3       0.1         0       2.4         0       2.7      0.4      0.4      3.8  \n",
       "4         0       1.3         0         0       0.1        0        0        0  \n",
       "5         0       6.2       0.2         0       0.8      3.6      2.5      0.2  "
      ]
     },
     "execution_count": 10,
     "metadata": {},
     "output_type": "execute_result"
    }
   ],
   "source": [
    "merge_df.drop('date_aqui', axis=1, inplace=True)\n",
    "merge_df.drop(0, axis=0, inplace=True)\n",
    "merge_df.head()"
   ]
  },
  {
   "cell_type": "code",
   "execution_count": 11,
   "metadata": {
    "collapsed": true
   },
   "outputs": [],
   "source": [
    "merge_df.to_csv('rain_dataframe.csv')"
   ]
  },
  {
   "cell_type": "code",
   "execution_count": null,
   "metadata": {
    "collapsed": true
   },
   "outputs": [],
   "source": []
  }
 ],
 "metadata": {
  "kernelspec": {
   "display_name": "Python 2",
   "language": "python",
   "name": "python2"
  },
  "language_info": {
   "codemirror_mode": {
    "name": "ipython",
    "version": 2
   },
   "file_extension": ".py",
   "mimetype": "text/x-python",
   "name": "python",
   "nbconvert_exporter": "python",
   "pygments_lexer": "ipython2",
   "version": "2.7.12"
  }
 },
 "nbformat": 4,
 "nbformat_minor": 2
}
