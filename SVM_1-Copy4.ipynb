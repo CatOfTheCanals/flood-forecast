{
 "cells": [
  {
   "cell_type": "code",
   "execution_count": 1,
   "metadata": {},
   "outputs": [
    {
     "name": "stdout",
     "output_type": "stream",
     "text": [
      "Automatically created module for IPython interactive environment\n"
     ]
    }
   ],
   "source": [
    "%matplotlib inline\n",
    "\n",
    "from __future__ import print_function\n",
    "\n",
    "from time import time\n",
    "import logging\n",
    "import matplotlib.pyplot as plt\n",
    "\n",
    "import numpy as np\n",
    "from sklearn import preprocessing, model_selection, neighbors, svm\n",
    "from sklearn.pipeline import Pipeline\n",
    "from sklearn import linear_model, decomposition, datasets\n",
    "from sklearn.model_selection import GridSearchCV\n",
    "from sklearn.svm import SVC\n",
    "from sklearn.decomposition import PCA\n",
    "import pandas as pd\n",
    "import matplotlib.pyplot as plt\n",
    "from sklearn.metrics import classification_report\n",
    "from sklearn.metrics import confusion_matrix\n",
    "from sklearn.preprocessing import StandardScaler, RobustScaler\n",
    "\n",
    "\n",
    "np.random.seed(0)\n",
    "\n",
    "print(__doc__)\n",
    "\n",
    "# Display progress logs on stdout\n",
    "logging.basicConfig(level=logging.INFO, format='%(asctime)s %(message)s')\n"
   ]
  },
  {
   "cell_type": "code",
   "execution_count": 2,
   "metadata": {},
   "outputs": [
    {
     "data": {
      "text/html": [
       "<div>\n",
       "<table border=\"1\" class=\"dataframe\">\n",
       "  <thead>\n",
       "    <tr style=\"text-align: right;\">\n",
       "      <th></th>\n",
       "      <th>date_rain</th>\n",
       "      <th>rain</th>\n",
       "      <th>t_rain-8</th>\n",
       "      <th>t_rain-7</th>\n",
       "      <th>t_rain-6</th>\n",
       "      <th>t_rain-5</th>\n",
       "      <th>t_rain-4</th>\n",
       "      <th>t_rain-3</th>\n",
       "      <th>t_rain-2</th>\n",
       "      <th>t_rain-1</th>\n",
       "      <th>t_rain0</th>\n",
       "    </tr>\n",
       "  </thead>\n",
       "  <tbody>\n",
       "    <tr>\n",
       "      <th>1</th>\n",
       "      <td>2014-12-28</td>\n",
       "      <td>0.0</td>\n",
       "      <td>1.1</td>\n",
       "      <td>0.3</td>\n",
       "      <td>3.3</td>\n",
       "      <td>4.1</td>\n",
       "      <td>0.3</td>\n",
       "      <td>0.0</td>\n",
       "      <td>10.1</td>\n",
       "      <td>0.4</td>\n",
       "      <td>0.0</td>\n",
       "    </tr>\n",
       "    <tr>\n",
       "      <th>2</th>\n",
       "      <td>2015-01-02</td>\n",
       "      <td>0.3</td>\n",
       "      <td>0.0</td>\n",
       "      <td>10.1</td>\n",
       "      <td>0.4</td>\n",
       "      <td>0.0</td>\n",
       "      <td>0.0</td>\n",
       "      <td>0.0</td>\n",
       "      <td>0.7</td>\n",
       "      <td>5.1</td>\n",
       "      <td>0.3</td>\n",
       "    </tr>\n",
       "    <tr>\n",
       "      <th>3</th>\n",
       "      <td>2015-02-04</td>\n",
       "      <td>0.0</td>\n",
       "      <td>0.4</td>\n",
       "      <td>3.8</td>\n",
       "      <td>8.8</td>\n",
       "      <td>1.7</td>\n",
       "      <td>0.5</td>\n",
       "      <td>0.0</td>\n",
       "      <td>0.0</td>\n",
       "      <td>1.3</td>\n",
       "      <td>0.0</td>\n",
       "    </tr>\n",
       "    <tr>\n",
       "      <th>4</th>\n",
       "      <td>2015-02-16</td>\n",
       "      <td>0.2</td>\n",
       "      <td>0.0</td>\n",
       "      <td>0.0</td>\n",
       "      <td>0.0</td>\n",
       "      <td>0.0</td>\n",
       "      <td>0.0</td>\n",
       "      <td>4.5</td>\n",
       "      <td>0.0</td>\n",
       "      <td>6.2</td>\n",
       "      <td>0.2</td>\n",
       "    </tr>\n",
       "    <tr>\n",
       "      <th>5</th>\n",
       "      <td>2015-02-28</td>\n",
       "      <td>1.7</td>\n",
       "      <td>2.5</td>\n",
       "      <td>0.2</td>\n",
       "      <td>10.7</td>\n",
       "      <td>6.8</td>\n",
       "      <td>6.0</td>\n",
       "      <td>1.8</td>\n",
       "      <td>7.1</td>\n",
       "      <td>0.1</td>\n",
       "      <td>1.7</td>\n",
       "    </tr>\n",
       "  </tbody>\n",
       "</table>\n",
       "</div>"
      ],
      "text/plain": [
       "    date_rain  rain  t_rain-8  t_rain-7  t_rain-6  t_rain-5  t_rain-4  \\\n",
       "1  2014-12-28   0.0       1.1       0.3       3.3       4.1       0.3   \n",
       "2  2015-01-02   0.3       0.0      10.1       0.4       0.0       0.0   \n",
       "3  2015-02-04   0.0       0.4       3.8       8.8       1.7       0.5   \n",
       "4  2015-02-16   0.2       0.0       0.0       0.0       0.0       0.0   \n",
       "5  2015-02-28   1.7       2.5       0.2      10.7       6.8       6.0   \n",
       "\n",
       "   t_rain-3  t_rain-2  t_rain-1  t_rain0  \n",
       "1       0.0      10.1       0.4      0.0  \n",
       "2       0.0       0.7       5.1      0.3  \n",
       "3       0.0       0.0       1.3      0.0  \n",
       "4       4.5       0.0       6.2      0.2  \n",
       "5       1.8       7.1       0.1      1.7  "
      ]
     },
     "execution_count": 2,
     "metadata": {},
     "output_type": "execute_result"
    }
   ],
   "source": [
    "df_rain = pd.read_csv('rain_dataframe.csv', header=0, parse_dates=True,\n",
    "    index_col=0)\n",
    "df_rain.head()"
   ]
  },
  {
   "cell_type": "code",
   "execution_count": 3,
   "metadata": {},
   "outputs": [
    {
     "data": {
      "text/html": [
       "<div>\n",
       "<table border=\"1\" class=\"dataframe\">\n",
       "  <thead>\n",
       "    <tr style=\"text-align: right;\">\n",
       "      <th></th>\n",
       "      <th>date_evap</th>\n",
       "      <th>evap</th>\n",
       "      <th>t_evap-8</th>\n",
       "      <th>t_evap-7</th>\n",
       "      <th>t_evap-6</th>\n",
       "      <th>t_evap-5</th>\n",
       "      <th>t_evap-4</th>\n",
       "      <th>t_evap-3</th>\n",
       "      <th>t_evap-2</th>\n",
       "      <th>t_evap-1</th>\n",
       "      <th>t_evap0</th>\n",
       "    </tr>\n",
       "  </thead>\n",
       "  <tbody>\n",
       "    <tr>\n",
       "      <th>1</th>\n",
       "      <td>2014-12-28</td>\n",
       "      <td>0.0</td>\n",
       "      <td>0.4</td>\n",
       "      <td>0.9</td>\n",
       "      <td>0.9</td>\n",
       "      <td>0.6</td>\n",
       "      <td>0.4</td>\n",
       "      <td>0.2</td>\n",
       "      <td>0.5</td>\n",
       "      <td>0.2</td>\n",
       "      <td>0.0</td>\n",
       "    </tr>\n",
       "    <tr>\n",
       "      <th>2</th>\n",
       "      <td>2015-01-02</td>\n",
       "      <td>0.6</td>\n",
       "      <td>0.2</td>\n",
       "      <td>0.5</td>\n",
       "      <td>0.2</td>\n",
       "      <td>0.0</td>\n",
       "      <td>0.4</td>\n",
       "      <td>0.6</td>\n",
       "      <td>1.2</td>\n",
       "      <td>0.8</td>\n",
       "      <td>0.6</td>\n",
       "    </tr>\n",
       "    <tr>\n",
       "      <th>3</th>\n",
       "      <td>2015-02-04</td>\n",
       "      <td>0.5</td>\n",
       "      <td>0.4</td>\n",
       "      <td>0.6</td>\n",
       "      <td>0.8</td>\n",
       "      <td>0.7</td>\n",
       "      <td>0.8</td>\n",
       "      <td>0.5</td>\n",
       "      <td>0.4</td>\n",
       "      <td>0.4</td>\n",
       "      <td>0.5</td>\n",
       "    </tr>\n",
       "    <tr>\n",
       "      <th>4</th>\n",
       "      <td>2015-02-16</td>\n",
       "      <td>0.8</td>\n",
       "      <td>0.3</td>\n",
       "      <td>0.5</td>\n",
       "      <td>0.6</td>\n",
       "      <td>0.7</td>\n",
       "      <td>1.0</td>\n",
       "      <td>0.9</td>\n",
       "      <td>0.7</td>\n",
       "      <td>0.7</td>\n",
       "      <td>0.8</td>\n",
       "    </tr>\n",
       "    <tr>\n",
       "      <th>5</th>\n",
       "      <td>2015-02-28</td>\n",
       "      <td>1.2</td>\n",
       "      <td>0.8</td>\n",
       "      <td>1.1</td>\n",
       "      <td>0.9</td>\n",
       "      <td>1.0</td>\n",
       "      <td>1.3</td>\n",
       "      <td>0.8</td>\n",
       "      <td>1.0</td>\n",
       "      <td>0.9</td>\n",
       "      <td>1.2</td>\n",
       "    </tr>\n",
       "  </tbody>\n",
       "</table>\n",
       "</div>"
      ],
      "text/plain": [
       "    date_evap  evap  t_evap-8  t_evap-7  t_evap-6  t_evap-5  t_evap-4  \\\n",
       "1  2014-12-28   0.0       0.4       0.9       0.9       0.6       0.4   \n",
       "2  2015-01-02   0.6       0.2       0.5       0.2       0.0       0.4   \n",
       "3  2015-02-04   0.5       0.4       0.6       0.8       0.7       0.8   \n",
       "4  2015-02-16   0.8       0.3       0.5       0.6       0.7       1.0   \n",
       "5  2015-02-28   1.2       0.8       1.1       0.9       1.0       1.3   \n",
       "\n",
       "   t_evap-3  t_evap-2  t_evap-1  t_evap0  \n",
       "1       0.2       0.5       0.2      0.0  \n",
       "2       0.6       1.2       0.8      0.6  \n",
       "3       0.5       0.4       0.4      0.5  \n",
       "4       0.9       0.7       0.7      0.8  \n",
       "5       0.8       1.0       0.9      1.2  "
      ]
     },
     "execution_count": 3,
     "metadata": {},
     "output_type": "execute_result"
    }
   ],
   "source": [
    "df_evap = pd.read_csv('evap_dataframe.csv', header=0, parse_dates=True,\n",
    "    index_col=0)\n",
    "df_evap.head()"
   ]
  },
  {
   "cell_type": "code",
   "execution_count": 4,
   "metadata": {},
   "outputs": [
    {
     "data": {
      "text/html": [
       "<div>\n",
       "<table border=\"1\" class=\"dataframe\">\n",
       "  <thead>\n",
       "    <tr style=\"text-align: right;\">\n",
       "      <th></th>\n",
       "      <th>date_wlevel</th>\n",
       "      <th>w_level</th>\n",
       "      <th>t_wlevel-8</th>\n",
       "      <th>t_wlevel-7</th>\n",
       "      <th>t_wlevel-6</th>\n",
       "      <th>t_wlevel-5</th>\n",
       "      <th>t_wlevel-4</th>\n",
       "      <th>t_wlevel-3</th>\n",
       "      <th>t_wlevel-2</th>\n",
       "      <th>t_wlevel-1</th>\n",
       "      <th>t_wlevel0</th>\n",
       "    </tr>\n",
       "  </thead>\n",
       "  <tbody>\n",
       "    <tr>\n",
       "      <th>1</th>\n",
       "      <td>2014-12-28</td>\n",
       "      <td>33.814</td>\n",
       "      <td>33.622</td>\n",
       "      <td>33.587</td>\n",
       "      <td>33.563</td>\n",
       "      <td>33.594</td>\n",
       "      <td>33.686</td>\n",
       "      <td>33.727</td>\n",
       "      <td>33.724</td>\n",
       "      <td>33.784</td>\n",
       "      <td>33.814</td>\n",
       "    </tr>\n",
       "    <tr>\n",
       "      <th>2</th>\n",
       "      <td>2015-01-02</td>\n",
       "      <td>33.699</td>\n",
       "      <td>33.727</td>\n",
       "      <td>33.724</td>\n",
       "      <td>33.784</td>\n",
       "      <td>33.814</td>\n",
       "      <td>33.787</td>\n",
       "      <td>33.751</td>\n",
       "      <td>33.715</td>\n",
       "      <td>33.692</td>\n",
       "      <td>33.699</td>\n",
       "    </tr>\n",
       "    <tr>\n",
       "      <th>3</th>\n",
       "      <td>2015-02-04</td>\n",
       "      <td>33.659</td>\n",
       "      <td>33.788</td>\n",
       "      <td>33.751</td>\n",
       "      <td>33.735</td>\n",
       "      <td>33.752</td>\n",
       "      <td>33.775</td>\n",
       "      <td>33.754</td>\n",
       "      <td>33.718</td>\n",
       "      <td>33.689</td>\n",
       "      <td>33.659</td>\n",
       "    </tr>\n",
       "    <tr>\n",
       "      <th>4</th>\n",
       "      <td>2015-02-16</td>\n",
       "      <td>33.125</td>\n",
       "      <td>33.470</td>\n",
       "      <td>33.421</td>\n",
       "      <td>33.369</td>\n",
       "      <td>33.319</td>\n",
       "      <td>33.268</td>\n",
       "      <td>33.217</td>\n",
       "      <td>33.190</td>\n",
       "      <td>33.145</td>\n",
       "      <td>33.125</td>\n",
       "    </tr>\n",
       "    <tr>\n",
       "      <th>5</th>\n",
       "      <td>2015-02-28</td>\n",
       "      <td>33.391</td>\n",
       "      <td>33.024</td>\n",
       "      <td>33.008</td>\n",
       "      <td>32.990</td>\n",
       "      <td>33.061</td>\n",
       "      <td>33.166</td>\n",
       "      <td>33.212</td>\n",
       "      <td>33.284</td>\n",
       "      <td>33.377</td>\n",
       "      <td>33.391</td>\n",
       "    </tr>\n",
       "  </tbody>\n",
       "</table>\n",
       "</div>"
      ],
      "text/plain": [
       "  date_wlevel  w_level  t_wlevel-8  t_wlevel-7  t_wlevel-6  t_wlevel-5  \\\n",
       "1  2014-12-28   33.814      33.622      33.587      33.563      33.594   \n",
       "2  2015-01-02   33.699      33.727      33.724      33.784      33.814   \n",
       "3  2015-02-04   33.659      33.788      33.751      33.735      33.752   \n",
       "4  2015-02-16   33.125      33.470      33.421      33.369      33.319   \n",
       "5  2015-02-28   33.391      33.024      33.008      32.990      33.061   \n",
       "\n",
       "   t_wlevel-4  t_wlevel-3  t_wlevel-2  t_wlevel-1  t_wlevel0  \n",
       "1      33.686      33.727      33.724      33.784     33.814  \n",
       "2      33.787      33.751      33.715      33.692     33.699  \n",
       "3      33.775      33.754      33.718      33.689     33.659  \n",
       "4      33.268      33.217      33.190      33.145     33.125  \n",
       "5      33.166      33.212      33.284      33.377     33.391  "
      ]
     },
     "execution_count": 4,
     "metadata": {},
     "output_type": "execute_result"
    }
   ],
   "source": [
    "df_wlevel = pd.read_csv('wlevel_dataframe.csv', header=0, parse_dates=True,\n",
    "    index_col=0)\n",
    "df_wlevel.head()"
   ]
  },
  {
   "cell_type": "code",
   "execution_count": 5,
   "metadata": {},
   "outputs": [
    {
     "data": {
      "text/html": [
       "<div>\n",
       "<table border=\"1\" class=\"dataframe\">\n",
       "  <thead>\n",
       "    <tr style=\"text-align: right;\">\n",
       "      <th></th>\n",
       "      <th>Date</th>\n",
       "      <th>Class</th>\n",
       "    </tr>\n",
       "  </thead>\n",
       "  <tbody>\n",
       "    <tr>\n",
       "      <th>0</th>\n",
       "      <td>2014-11-22</td>\n",
       "      <td>1</td>\n",
       "    </tr>\n",
       "    <tr>\n",
       "      <th>1</th>\n",
       "      <td>2014-12-28</td>\n",
       "      <td>1</td>\n",
       "    </tr>\n",
       "    <tr>\n",
       "      <th>2</th>\n",
       "      <td>2015-01-02</td>\n",
       "      <td>1</td>\n",
       "    </tr>\n",
       "    <tr>\n",
       "      <th>3</th>\n",
       "      <td>2015-02-04</td>\n",
       "      <td>1</td>\n",
       "    </tr>\n",
       "    <tr>\n",
       "      <th>4</th>\n",
       "      <td>2015-02-16</td>\n",
       "      <td>0</td>\n",
       "    </tr>\n",
       "  </tbody>\n",
       "</table>\n",
       "</div>"
      ],
      "text/plain": [
       "        Date  Class\n",
       "0 2014-11-22      1\n",
       "1 2014-12-28      1\n",
       "2 2015-01-02      1\n",
       "3 2015-02-04      1\n",
       "4 2015-02-16      0"
      ]
     },
     "execution_count": 5,
     "metadata": {},
     "output_type": "execute_result"
    }
   ],
   "source": [
    "# Import the excel file and call it xls_file\n",
    "xls_file = pd.ExcelFile('classes.xls')\n",
    "xls_file\n",
    "xls_file.sheet_names\n",
    "df_classes = xls_file.parse('Sheet1')\n",
    "df_classes.head()"
   ]
  },
  {
   "cell_type": "code",
   "execution_count": 6,
   "metadata": {
    "collapsed": true
   },
   "outputs": [],
   "source": [
    "#clean up and remove unnessessary columns\n",
    "df_rain.reset_index(drop=True, inplace=True)\n",
    "df_evap.reset_index(drop=True, inplace=True)\n",
    "df_wlevel.reset_index(drop=True, inplace=True)\n",
    "df_classes.reset_index(drop=True, inplace=True)\n",
    "\n",
    "df = pd.concat([df_classes,df_rain,df_evap,df_wlevel], axis=1)\n",
    "df.drop('date_wlevel', axis=1, inplace=True)\n",
    "df.drop('date_evap', axis=1, inplace=True)\n",
    "df.drop('date_rain', axis=1, inplace=True)\n",
    "df.drop('w_level', axis=1, inplace=True)\n",
    "df.drop('evap', axis=1, inplace=True)\n",
    "df.drop('rain', axis=1, inplace=True)\n",
    "df.drop(66, axis=0, inplace=True)\n",
    "df.to_csv('concat.csv')"
   ]
  },
  {
   "cell_type": "code",
   "execution_count": 7,
   "metadata": {
    "scrolled": true
   },
   "outputs": [
    {
     "name": "stdout",
     "output_type": "stream",
     "text": [
      "[[  1.1     0.3     3.3   ...,  33.724  33.784  33.814]\n",
      " [  0.     10.1     0.4   ...,  33.715  33.692  33.699]\n",
      " [  0.4     3.8     8.8   ...,  33.718  33.689  33.659]\n",
      " ..., \n",
      " [  4.8     1.8     6.    ...,  32.873  32.887  32.901]\n",
      " [  0.      0.      0.    ...,  32.94   32.92   32.902]\n",
      " [  0.      0.      9.    ...,  32.902  32.876  32.87 ]]\n"
     ]
    }
   ],
   "source": [
    "X = np.array(df.drop(['Class', 'Date'], 1)) #Everything but the class\n",
    "y = np.array(df['Class'])           #Class  \n",
    "print(X)"
   ]
  },
  {
   "cell_type": "code",
   "execution_count": 8,
   "metadata": {},
   "outputs": [
    {
     "data": {
      "text/plain": [
       "Pipeline(steps=[('reduce_dim', PCA(copy=True, iterated_power='auto', n_components=None, random_state=None,\n",
       "  svd_solver='auto', tol=0.0, whiten=False)), ('clf', SVC(C=1.0, cache_size=200, class_weight=None, coef0=0.0,\n",
       "  decision_function_shape=None, degree=3, gamma='auto', kernel='rbf',\n",
       "  max_iter=-1, probability=False, random_state=None, shrinking=True,\n",
       "  tol=0.001, verbose=False))])"
      ]
     },
     "execution_count": 8,
     "metadata": {},
     "output_type": "execute_result"
    }
   ],
   "source": [
    "estimators = [('reduce_dim', PCA()), ('clf', SVC())]\n",
    "pipe = Pipeline(estimators)\n",
    "pipe "
   ]
  },
  {
   "cell_type": "code",
   "execution_count": 10,
   "metadata": {},
   "outputs": [
    {
     "data": {
      "text/plain": [
       "<matplotlib.text.Text at 0xb59f860>"
      ]
     },
     "execution_count": 10,
     "metadata": {},
     "output_type": "execute_result"
    },
    {
     "data": {
      "image/png": "[encoded data removed]",
      "text/plain": [
       "<matplotlib.figure.Figure at 0xb4b5cf8>"
      ]
     },
     "metadata": {},
     "output_type": "display_data"
    }
   ],
   "source": [
    "X_train, X_test, y_train, y_test = model_selection.train_test_split(X, y, test_size=0.3)\n",
    "\n",
    "pca1 = PCA()\n",
    "pca = decomposition.PCA()\n",
    "pca.fit(X_train)\n",
    "X_t_train = pca.transform(X_train)\n",
    "X_t_test = pca.transform(X_test)\n",
    "plt.figure(1, figsize=(4, 3))\n",
    "plt.clf()\n",
    "plt.axes([.2, .2, .7, .7])\n",
    "plt.plot(pca.explained_variance_, linewidth=2)\n",
    "plt.axis('tight')\n",
    "plt.xlabel('n_components')\n",
    "plt.ylabel('explained_variance_')"
   ]
  },
  {
   "cell_type": "code",
   "execution_count": 11,
   "metadata": {},
   "outputs": [
    {
     "data": {
      "text/plain": [
       "SVC(C=1.0, cache_size=200, class_weight=None, coef0=0.0,\n",
       "  decision_function_shape=None, degree=3, gamma='auto', kernel='linear',\n",
       "  max_iter=-1, probability=False, random_state=None, shrinking=True,\n",
       "  tol=0.001, verbose=False)"
      ]
     },
     "execution_count": 11,
     "metadata": {},
     "output_type": "execute_result"
    }
   ],
   "source": [
    "clf = SVC()\n",
    "clf.set_params(kernel='linear').fit(X, y)  \n",
    "SVC(C=1.0, cache_size=200, class_weight=None, coef0=0.0,\n",
    "  decision_function_shape=None, degree=3, gamma='auto', kernel='linear',\n",
    "  max_iter=-1, probability=False, random_state=None, shrinking=True,\n",
    "  tol=0.001, verbose=False)"
   ]
  },
  {
   "cell_type": "code",
   "execution_count": 12,
   "metadata": {},
   "outputs": [
    {
     "name": "stdout",
     "output_type": "stream",
     "text": [
      "score 1.0\n",
      "pred label [0 1 1 0 0 1 0 0 1 0 1 0 1 0 0 1 0 1 0 1]\n"
     ]
    }
   ],
   "source": [
    "clf.set_params(kernel='linear').fit(X, y)  \n",
    "SVC(C=1.0, cache_size=200, class_weight=None, coef0=0.0,\n",
    "  decision_function_shape=None, degree=3, gamma='auto', kernel='rbf',\n",
    "  max_iter=-1, probability=False, random_state=None, shrinking=True,\n",
    "  tol=0.001, verbose=False)\n",
    "clf.fit(X_t_train, y_train)\n",
    "print('score', clf.score(X_t_test, y_test))\n",
    "print('pred label', clf.predict(X_t_test))"
   ]
  },
  {
   "cell_type": "code",
   "execution_count": 18,
   "metadata": {},
   "outputs": [
    {
     "name": "stdout",
     "output_type": "stream",
     "text": [
      "1.0\n"
     ]
    }
   ],
   "source": [
    "confidence = clf.score(X_t_test, y_test)\n",
    "print(confidence)"
   ]
  },
  {
   "cell_type": "code",
   "execution_count": 19,
   "metadata": {},
   "outputs": [
    {
     "name": "stdout",
     "output_type": "stream",
     "text": [
      "Prediction:  [0]\n",
      "0\n"
     ]
    }
   ],
   "source": [
    "print('Prediction: ', clf.predict(X[[-1]]))\n",
    "print(y[-1])"
   ]
  },
  {
   "cell_type": "code",
   "execution_count": 20,
   "metadata": {},
   "outputs": [
    {
     "name": "stdout",
     "output_type": "stream",
     "text": [
      "Prediction:  [0]\n",
      "0\n"
     ]
    }
   ],
   "source": [
    "print('Prediction: ', clf.predict(X[[50]]))\n",
    "print(y[50])"
   ]
  },
  {
   "cell_type": "code",
   "execution_count": 21,
   "metadata": {},
   "outputs": [
    {
     "name": "stdout",
     "output_type": "stream",
     "text": [
      "Prediction:  [0]\n",
      "1\n"
     ]
    }
   ],
   "source": [
    "print('Prediction: ', clf.predict(X[[25]]))\n",
    "print(y[25])"
   ]
  },
  {
   "cell_type": "code",
   "execution_count": null,
   "metadata": {
    "collapsed": true
   },
   "outputs": [],
   "source": []
  }
 ],
 "metadata": {
  "kernelspec": {
   "display_name": "Python 2",
   "language": "python",
   "name": "python2"
  },
  "language_info": {
   "codemirror_mode": {
    "name": "ipython",
    "version": 2
   },
   "file_extension": ".py",
   "mimetype": "text/x-python",
   "name": "python",
   "nbconvert_exporter": "python",
   "pygments_lexer": "ipython2",
   "version": "2.7.12"
  }
 },
 "nbformat": 4,
 "nbformat_minor": 2
}
